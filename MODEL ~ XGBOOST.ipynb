{
 "cells": [
  {
   "cell_type": "code",
   "execution_count": 2,
   "id": "5176172d",
   "metadata": {},
   "outputs": [],
   "source": [
    "import pandas as pd\n",
    "import numpy as np\n",
    "import matplotlib.pyplot as plt\n",
    "import seaborn as sns\n",
    "import xgboost as xgb\n",
    "from sklearn.metrics import mean_squared_error\n",
    "\n",
    "from src.constants import MODEL_CONST\n",
    "from src.utility import *\n",
    "from src.rolling_data import RollingData\n",
    "from src.per_game_model import PerGameModel\n",
    "from src.init_DFs.per_game import PerGameInit\n",
    "from src.init_DFs.next_game import NextGameInit\n",
    "\n",
    "color_pal = sns.color_palette()\n",
    "plt.style.use('fivethirtyeight')\n",
    "\n",
    "pgModel = PerGameModel()\n",
    "initPG = PerGameInit()\n",
    "initNextGame = NextGameInit()"
   ]
  },
  {
   "cell_type": "code",
   "execution_count": 3,
   "id": "428a1112",
   "metadata": {},
   "outputs": [],
   "source": [
    "season = \"20_22\"\n",
    "situation = \"5on5\"\n",
    "#roll_num = 4\n",
    "\n",
    "target = 'next_reg_win'\n",
    "target_cols = ['reg_win']\n",
    "target_operations = []\n",
    "\n",
    "include_placebo = False\n",
    "include_null_targets = False\n",
    "null_target_value = 2\n",
    "\n",
    "df = pd.read_csv(MODEL_CONST['CSV_DB_PATH'] + f\"{season}/PER_GAME_BY_TEAM_{situation}_{season}.csv\")\n",
    "df_roll_2 = pd.read_csv(MODEL_CONST['CSV_DB_PATH'] + f\"{season}/ROLLING_2_{situation}_{season}.csv\")\n",
    "df_roll_4 = pd.read_csv(MODEL_CONST['CSV_DB_PATH'] + f\"{season}/ROLLING_4_{situation}_{season}.csv\")\n",
    "df_roll_8 = pd.read_csv(MODEL_CONST['CSV_DB_PATH'] + f\"{season}/ROLLING_8_{situation}_{season}.csv\")\n",
    "df_roll_16 = pd.read_csv(MODEL_CONST['CSV_DB_PATH'] + f\"{season}/ROLLING_16_{situation}_{season}.csv\")\n",
    "\n"
   ]
  }
 ],
 "metadata": {
  "kernelspec": {
   "display_name": "Python 3 (ipykernel)",
   "language": "python",
   "name": "python3"
  },
  "language_info": {
   "codemirror_mode": {
    "name": "ipython",
    "version": 3
   },
   "file_extension": ".py",
   "mimetype": "text/x-python",
   "name": "python",
   "nbconvert_exporter": "python",
   "pygments_lexer": "ipython3",
   "version": "3.10.6"
  }
 },
 "nbformat": 4,
 "nbformat_minor": 5
}
