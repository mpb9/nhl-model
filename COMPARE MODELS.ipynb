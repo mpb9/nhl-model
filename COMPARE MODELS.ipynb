{
 "cells": [
  {
   "cell_type": "markdown",
   "id": "894910f5",
   "metadata": {},
   "source": [
    "# imports"
   ]
  },
  {
   "cell_type": "code",
   "execution_count": 1,
   "id": "9246c298",
   "metadata": {},
   "outputs": [],
   "source": [
    "import pandas\n",
    "import matplotlib.pyplot as plt\n",
    "from sklearn import model_selection\n",
    "from sklearn.linear_model import LogisticRegression\n",
    "from sklearn.tree import DecisionTreeClassifier\n",
    "from sklearn.neighbors import KNeighborsClassifier\n",
    "from sklearn.discriminant_analysis import LinearDiscriminantAnalysis\n",
    "from sklearn.naive_bayes import GaussianNB\n",
    "from sklearn.svm import SVC\n",
    "\n",
    "from src.constants import *\n",
    "from src.utility import *\n",
    "from src.targets import *\n",
    "from src.rolling_data import RollingData\n",
    "from src.per_game_model import PerGameModel\n",
    "from src.init_DFs.per_game import PerGameInit\n",
    "from src.init_DFs.next_game import NextGameInit\n",
    "\n",
    "pgModel = PerGameModel()\n",
    "initPG = PerGameInit()\n",
    "initNextGame = NextGameInit()"
   ]
  },
  {
   "cell_type": "markdown",
   "id": "b018010b",
   "metadata": {},
   "source": [
    "# configure"
   ]
  },
  {
   "cell_type": "code",
   "execution_count": null,
   "id": "3fd64ffd",
   "metadata": {},
   "outputs": [],
   "source": [
    "season = \"20_22\"\n",
    "situation = \"5on5\"\n",
    "rolling_num = 4\n",
    "\n",
    "target = 'next_reg_win'\n",
    "target_cols = ['reg_win']\n",
    "target_operations = []\n",
    "\n",
    "include_placebo = False\n",
    "include_null_targets = False\n",
    "null_target_value = 2\n",
    "\n",
    "df = pd.read_csv(CSV_DB_PATH + f\"{season}/PER_GAME_BY_TEAM_{situation}_{season}.csv\")\n"
   ]
  },
  {
   "cell_type": "code",
   "execution_count": null,
   "id": "07ca3555",
   "metadata": {},
   "outputs": [],
   "source": [
    "# load dataset\n",
    "csv_path = \"C:/Users/Michael Beebe/OneDrive - University of North Carolina at Chapel Hill/Desktop/bet-nhl-data/\"\n",
    "db_env = \"PER_GAME_BY_TEAM\"\n",
    "season = \"all\"\n",
    "sit = \"5on5\"\n",
    "csv_file = f\"{db_env}_{sit}_{season}\"\n",
    "\n",
    "\n",
    "\n",
    "#url = \"https://raw.githubusercontent.com/jbrownlee/Datasets/master/pima-indians-diabetes.data.csv\"\n",
    "#names = ['preg', 'plas', 'pres', 'skin', 'test', 'mass', 'pedi', 'age', 'class']\n",
    "dataframe = pandas.read_csv(csv_path + f\"{season}/{csv_file}.csv\")\n",
    "array = dataframe.values\n",
    "X = array[:,0:8]\n",
    "Y = array[:,8]\n",
    "# prepare configuration for cross validation test harness\n",
    "seed = 7\n",
    "# prepare models\n",
    "models = []\n",
    "models.append(('LR', LogisticRegression()))\n",
    "models.append(('LDA', LinearDiscriminantAnalysis()))\n",
    "models.append(('KNN', KNeighborsClassifier()))\n",
    "models.append(('CART', DecisionTreeClassifier()))\n",
    "models.append(('NB', GaussianNB()))\n",
    "models.append(('SVM', SVC()))\n",
    "# evaluate each model in turn\n",
    "results = []\n",
    "names = []\n",
    "scoring = 'accuracy'\n",
    "for name, model in models:\n",
    " kfold = model_selection.KFold(n_splits=10, random_state=seed)\n",
    " cv_results = model_selection.cross_val_score(model, X, Y, cv=kfold, scoring=scoring)\n",
    " results.append(cv_results)\n",
    " names.append(name)\n",
    " msg = \"%s: %f (%f)\" % (name, cv_results.mean(), cv_results.std())\n",
    " print(msg)\n",
    "# boxplot algorithm comparison\n",
    "fig = plt.figure()\n",
    "fig.suptitle('Algorithm Comparison')\n",
    "ax = fig.add_subplot(111)\n",
    "plt.boxplot(results)\n",
    "ax.set_xticklabels(names)\n",
    "plt.show()"
   ]
  }
 ],
 "metadata": {
  "kernelspec": {
   "display_name": "Python 3 (ipykernel)",
   "language": "python",
   "name": "python3"
  },
  "language_info": {
   "codemirror_mode": {
    "name": "ipython",
    "version": 3
   },
   "file_extension": ".py",
   "mimetype": "text/x-python",
   "name": "python",
   "nbconvert_exporter": "python",
   "pygments_lexer": "ipython3",
   "version": "3.10.6"
  }
 },
 "nbformat": 4,
 "nbformat_minor": 5
}
