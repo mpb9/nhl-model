{
 "cells": [
  {
   "cell_type": "code",
   "execution_count": 1,
   "id": "17bf4874",
   "metadata": {},
   "outputs": [],
   "source": [
    "import pandas as pd\n",
    "import numpy as np\n",
    "import matplotlib.pyplot as plt\n",
    "import seaborn as sns\n",
    "import xgboost as xgb\n",
    "from sklearn.metrics import mean_squared_error\n",
    "\n",
    "from src.constants import *\n",
    "\n",
    "from src.utility.personal import *\n",
    "from src.utility.structure import *\n",
    "from src.utility.storage import *\n",
    "from src.utility.math import *\n",
    "\n",
    "from src.avgs import *\n",
    "from src.trajectory import *\n",
    "\n",
    "from src.rolling_data import RollingData\n",
    "from src.per_game_model import PerGameModel\n",
    "from src.init_DFs.per_game import PerGameInit\n",
    "from src.init_DFs.next_game import NextGameInit\n",
    "\n",
    "from src.relative_data.power_rank import *\n",
    "from src.relative_data.sos import *\n",
    "from src.situational_data.home_away import *\n",
    "\n",
    "\n",
    "color_pal = sns.color_palette()\n",
    "plt.style.use('fivethirtyeight')\n",
    "\n",
    "pgModel = PerGameModel()\n",
    "initPG = PerGameInit()\n",
    "initNextGame = NextGameInit()"
   ]
  },
  {
   "cell_type": "code",
   "execution_count": 2,
   "id": "9070ef32",
   "metadata": {},
   "outputs": [],
   "source": [
    "season = 2022\n",
    "situation = \"5on5\"\n",
    "df = primary_csv()\n",
    "game_date = '4/3/2023'\n",
    "initial_date = ''\n",
    "HA = \"\""
   ]
  },
  {
   "cell_type": "code",
   "execution_count": 3,
   "id": "a2fe1e65",
   "metadata": {},
   "outputs": [],
   "source": [
    "odds = matchup_odds_matrix(df.copy(), season, game_date, initial_date)\n",
    "mtrx = odds['mtrx']\n",
    "gp = odds['gp']\n",
    "\n",
    "pr = power_rank__implied(df.copy(), season, game_date, initial_date, HA)\n",
    "pr_num = get_number_rank(pr)\n",
    "pr_m = power_rank__implied_matchup(df.copy(), season, game_date, initial_date, HA)\n",
    "pr_m_num = get_number_rank(pr_m, False)\n",
    "\n",
    "sos = sos__implied(df, season, game_date, initial_date, HA)\n",
    "sos_m = sos__implied_matchup(df, season, game_date, initial_date, HA)\n",
    "pr_sos = sos__adjust(pr, gp)\n",
    "pr_m_sos = sos__adjust(pr_m, gp)\n",
    "\n",
    "\n",
    "odds_h = matchup_odds_matrix_HA(df.copy(), season, game_date, \"H\", initial_date)\n",
    "odds_a = matchup_odds_matrix_HA(df.copy(), season, game_date, \"A\", initial_date)\n",
    "\n",
    "pr_h = power_rank__implied(df.copy(), season, game_date, initial_date, \"H\")\n",
    "pr_a = power_rank__implied(df.copy(), season, game_date, initial_date, \"A\")\n",
    "sos_h = sos__implied(df, season, game_date, initial_date, \"H\")\n",
    "sos_a = sos__implied(df, season, game_date, initial_date, \"A\")\n",
    "\n",
    "h_adv = home_away_adv__implied(df, season, game_date, \"H\", initial_date)\n",
    "h_adv_m = home_away_adv__implied_matchup(df, season, game_date, \"H\", initial_date)\n",
    "a_adv = home_away_adv__implied(df, season, game_date, \"A\", initial_date)\n",
    "a_adv_m = home_away_adv__implied_matchup(df, season, game_date, \"A\", initial_date)\n",
    "\n",
    "hi = home_ice__adjust(df, season, game_date, initial_date)\n",
    "hi_m = home_ice__adjust_matchup(df, season, game_date, initial_date)"
   ]
  },
  {
   "cell_type": "code",
   "execution_count": 120,
   "id": "ae4a6446",
   "metadata": {},
   "outputs": [
    {
     "data": {
      "text/plain": [
       "BOS    0.126871\n",
       "CAR    0.115337\n",
       "TOR    0.100002\n",
       "TBL    0.085263\n",
       "CGY    0.073098\n",
       "FLA    0.068753\n",
       "COL    0.067686\n",
       "NYR    0.066089\n",
       "NJD    0.065305\n",
       "EDM    0.065232\n",
       "PIT    0.064793\n",
       "DAL    0.046044\n",
       "VGK    0.042490\n",
       "MIN    0.037683\n",
       "WSH    0.015166\n",
       "LAK    0.014226\n",
       "NYI    0.013374\n",
       "WPG    0.010174\n",
       "SEA   -0.001716\n",
       "OTT   -0.020231\n",
       "NSH   -0.026837\n",
       "BUF   -0.027136\n",
       "STL   -0.040669\n",
       "VAN   -0.041940\n",
       "DET   -0.057844\n",
       "PHI   -0.082530\n",
       "SJS   -0.092670\n",
       "CBJ   -0.120073\n",
       "MTL   -0.126359\n",
       "ANA   -0.138222\n",
       "ARI   -0.145369\n",
       "CHI   -0.160908\n",
       "dtype: float64"
      ]
     },
     "execution_count": 120,
     "metadata": {},
     "output_type": "execute_result"
    }
   ],
   "source": [
    "odds_h['mtrx']['BOS']['ANA']\n",
    "#odds_a['mtrx']\n",
    "odds_h[\"mtrx\"].iloc[0, 2]\n",
    "#odds_a[\"mtrx\"].iloc[0, 2]\n",
    "h_adv.mean() - h_adv\n",
    "pr_m_sos.sort_values(ascending=True).copy()\n",
    "#pr_m_sos\n",
    "\n",
    "def sos__roe(pr, gp):\n",
    "    sos = pd.Series()\n",
    "\n",
    "    for col in gp.columns:\n",
    "        sos[col] = (pr.copy() * gp[col]).sum() / gp[col].sum()\n",
    "\n",
    "    exp_pr = pr.mean() * 2 - sos.copy()\n",
    "\n",
    "    pr_above_exp = pr.copy() - exp_pr.copy()\n",
    "\n",
    "    return pr_above_exp.sort_values(ascending=False).copy()\n",
    "\n",
    "#veg = df.odds.mean() + df.opp_odds.mean() + df.ot_odds.mean()\n",
    "\n",
    "woe(pr, gp)"
   ]
  },
  {
   "cell_type": "code",
   "execution_count": 114,
   "id": "d15cb8bc",
   "metadata": {},
   "outputs": [
    {
     "data": {
      "text/plain": [
       "PHI    0.425434\n",
       "MTL    0.423977\n",
       "CBJ    0.422510\n",
       "BUF    0.421608\n",
       "PIT    0.421350\n",
       "ARI    0.420882\n",
       "NYI    0.419684\n",
       "SEA    0.419554\n",
       "DET    0.419502\n",
       "ANA    0.418737\n",
       "NYR    0.418141\n",
       "CHI    0.417436\n",
       "VAN    0.417287\n",
       "BOS    0.417276\n",
       "CAR    0.416935\n",
       "NJD    0.416230\n",
       "FLA    0.415821\n",
       "WSH    0.415509\n",
       "OTT    0.415064\n",
       "TOR    0.413505\n",
       "LAK    0.412695\n",
       "TBL    0.412665\n",
       "STL    0.411829\n",
       "CGY    0.410700\n",
       "COL    0.410685\n",
       "VGK    0.410592\n",
       "EDM    0.410505\n",
       "DAL    0.410298\n",
       "WPG    0.409401\n",
       "NSH    0.409020\n",
       "MIN    0.408311\n",
       "SJS    0.405538\n",
       "dtype: float64"
      ]
     },
     "execution_count": 114,
     "metadata": {},
     "output_type": "execute_result"
    }
   ],
   "source": [
    "#sos_m = sos_m - sos_m.mean()\n",
    "pr_m_sos = pr_m_sos.copy() + sos_m\n",
    "pr_m_sos\n",
    "odds[\"mtrx\"][\"CAR\"][\"ANA\"]\n",
    "h_adv\n",
    "df.is_home\n",
    "sos"
   ]
  },
  {
   "cell_type": "code",
   "execution_count": 44,
   "id": "744b84de",
   "metadata": {},
   "outputs": [
    {
     "data": {
      "text/plain": [
       "0.03766211056765104"
      ]
     },
     "execution_count": 44,
     "metadata": {},
     "output_type": "execute_result"
    }
   ],
   "source": [
    "h_adv.mean()"
   ]
  },
  {
   "cell_type": "code",
   "execution_count": null,
   "id": "b828eef2",
   "metadata": {},
   "outputs": [],
   "source": []
  }
 ],
 "metadata": {
  "kernelspec": {
   "display_name": "Python 3 (ipykernel)",
   "language": "python",
   "name": "python3"
  },
  "language_info": {
   "codemirror_mode": {
    "name": "ipython",
    "version": 3
   },
   "file_extension": ".py",
   "mimetype": "text/x-python",
   "name": "python",
   "nbconvert_exporter": "python",
   "pygments_lexer": "ipython3",
   "version": "3.10.6"
  }
 },
 "nbformat": 4,
 "nbformat_minor": 5
}
